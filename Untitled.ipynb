{
 "cells": [
  {
   "cell_type": "markdown",
   "id": "2b3e4227",
   "metadata": {},
   "source": [
    "Création du Dataset"
   ]
  },
  {
   "cell_type": "markdown",
   "id": "c36436df",
   "metadata": {},
   "source": [
    "# Generate data\n",
    "data = []\n",
    "start_date = datetime(2024, 1, 1)\n",
    "\n",
    "for _ in range(num_rows):\n",
    "    post_id = fake.uuid4()\n",
    "    date = start_date + timedelta(days=random.randint(0, 100), hours=random.randint(0, 23), minutes=random.randint(0, 59))\n",
    "    platform = random.choice(platforms)\n",
    "    post_type = random.choice(post_types)\n",
    "    likes = random.randint(10, 1000)\n",
    "    shares = random.randint(5, 500)\n",
    "    comments = random.randint(0, 300)\n",
    "    reach = likes + shares + comments + random.randint(50, 1000)\n",
    "    hashtags = ' '.join(random.sample(hashtags_pool, k=random.randint(1, 3)))\n",
    "\n",
    "    data.append([\n",
    "        post_id, date.strftime(\"%Y-%m-%d %H:%M:%S\"), platform, likes, shares, comments,\n",
    "        reach, hashtags, post_type\n",
    "    ])\n",
    "\n",
    "\n",
    "# Create DataFrame\n",
    "columns = [\"post_id\", \"date\", \"platform\", \"likes\", \"shares\", \"comments\", \"reach\", \"hashtags\", \"post_type\"]\n",
    "df = pd.DataFrame(data, columns=columns)\n",
    "\n",
    "# Save to CSV\n",
    "csv_path = \"/mnt/data/social_media_dataset_simulated.csv\"\n",
    "df.to_csv(csv_path, index=False)\n",
    "\n",
    "csv_path"
   ]
  },
  {
   "cell_type": "code",
   "execution_count": 5,
   "id": "f63291d9",
   "metadata": {},
   "outputs": [],
   "source": [
    "import pandas as pd\n",
    "import numpy as np\n",
    "import seaborn as sns\n",
    "import warnings\n",
    "warnings.filterwarnings('ignore')\n",
    "import matplotlib.pyplot as plt\n",
    "%matplotlib inline"
   ]
  },
  {
   "cell_type": "code",
   "execution_count": 6,
   "id": "0cfe9f1c",
   "metadata": {},
   "outputs": [],
   "source": [
    "df = pd.read_csv(\"social_media_dataset_simulated.csv\", na_values = [' ', '\\\\N', 'NaN '])"
   ]
  },
  {
   "cell_type": "code",
   "execution_count": 7,
   "id": "989836b2",
   "metadata": {},
   "outputs": [],
   "source": [
    "pd.set_option('display.max_columns', None)"
   ]
  },
  {
   "cell_type": "code",
   "execution_count": 8,
   "id": "e0aca487",
   "metadata": {},
   "outputs": [
    {
     "data": {
      "text/html": [
       "<div>\n",
       "<style scoped>\n",
       "    .dataframe tbody tr th:only-of-type {\n",
       "        vertical-align: middle;\n",
       "    }\n",
       "\n",
       "    .dataframe tbody tr th {\n",
       "        vertical-align: top;\n",
       "    }\n",
       "\n",
       "    .dataframe thead th {\n",
       "        text-align: right;\n",
       "    }\n",
       "</style>\n",
       "<table border=\"1\" class=\"dataframe\">\n",
       "  <thead>\n",
       "    <tr style=\"text-align: right;\">\n",
       "      <th></th>\n",
       "      <th>post_id</th>\n",
       "      <th>date</th>\n",
       "      <th>platform</th>\n",
       "      <th>likes</th>\n",
       "      <th>shares</th>\n",
       "      <th>comments</th>\n",
       "      <th>reach</th>\n",
       "      <th>hashtags</th>\n",
       "      <th>post_type</th>\n",
       "    </tr>\n",
       "  </thead>\n",
       "  <tbody>\n",
       "    <tr>\n",
       "      <th>0</th>\n",
       "      <td>6eb392a9-9887-4f6f-8e4a-5a0658bf1c5d</td>\n",
       "      <td>2024-01-22 21:19:00</td>\n",
       "      <td>Twitter</td>\n",
       "      <td>61</td>\n",
       "      <td>269</td>\n",
       "      <td>286</td>\n",
       "      <td>839</td>\n",
       "      <td>#music #fitness #fun</td>\n",
       "      <td>image</td>\n",
       "    </tr>\n",
       "    <tr>\n",
       "      <th>1</th>\n",
       "      <td>75d4e8c9-824b-41ee-bb8b-ff952c2d9ff7</td>\n",
       "      <td>2024-02-28 15:35:00</td>\n",
       "      <td>Instagram</td>\n",
       "      <td>513</td>\n",
       "      <td>336</td>\n",
       "      <td>152</td>\n",
       "      <td>1568</td>\n",
       "      <td>#fashion #fun #food</td>\n",
       "      <td>texte</td>\n",
       "    </tr>\n",
       "    <tr>\n",
       "      <th>2</th>\n",
       "      <td>aab20414-13f7-4f50-9443-91904c382140</td>\n",
       "      <td>2024-02-13 23:56:00</td>\n",
       "      <td>Instagram</td>\n",
       "      <td>514</td>\n",
       "      <td>152</td>\n",
       "      <td>205</td>\n",
       "      <td>1606</td>\n",
       "      <td>#tech</td>\n",
       "      <td>texte</td>\n",
       "    </tr>\n",
       "    <tr>\n",
       "      <th>3</th>\n",
       "      <td>235de979-7d49-496f-8e92-48716be787ba</td>\n",
       "      <td>2024-03-25 23:40:00</td>\n",
       "      <td>Twitter</td>\n",
       "      <td>962</td>\n",
       "      <td>332</td>\n",
       "      <td>173</td>\n",
       "      <td>2183</td>\n",
       "      <td>#tech #food #music</td>\n",
       "      <td>texte</td>\n",
       "    </tr>\n",
       "    <tr>\n",
       "      <th>4</th>\n",
       "      <td>ed1cdf7e-4565-4d9b-bf55-667ecee1c7cb</td>\n",
       "      <td>2024-04-09 23:33:00</td>\n",
       "      <td>Twitter</td>\n",
       "      <td>351</td>\n",
       "      <td>470</td>\n",
       "      <td>100</td>\n",
       "      <td>1701</td>\n",
       "      <td>#music #fun #travel</td>\n",
       "      <td>image</td>\n",
       "    </tr>\n",
       "  </tbody>\n",
       "</table>\n",
       "</div>"
      ],
      "text/plain": [
       "                                post_id                 date   platform  \\\n",
       "0  6eb392a9-9887-4f6f-8e4a-5a0658bf1c5d  2024-01-22 21:19:00    Twitter   \n",
       "1  75d4e8c9-824b-41ee-bb8b-ff952c2d9ff7  2024-02-28 15:35:00  Instagram   \n",
       "2  aab20414-13f7-4f50-9443-91904c382140  2024-02-13 23:56:00  Instagram   \n",
       "3  235de979-7d49-496f-8e92-48716be787ba  2024-03-25 23:40:00    Twitter   \n",
       "4  ed1cdf7e-4565-4d9b-bf55-667ecee1c7cb  2024-04-09 23:33:00    Twitter   \n",
       "\n",
       "   likes  shares  comments  reach              hashtags post_type  \n",
       "0     61     269       286    839  #music #fitness #fun     image  \n",
       "1    513     336       152   1568   #fashion #fun #food     texte  \n",
       "2    514     152       205   1606                 #tech     texte  \n",
       "3    962     332       173   2183    #tech #food #music     texte  \n",
       "4    351     470       100   1701   #music #fun #travel     image  "
      ]
     },
     "execution_count": 8,
     "metadata": {},
     "output_type": "execute_result"
    }
   ],
   "source": [
    "df.head()"
   ]
  },
  {
   "cell_type": "code",
   "execution_count": 9,
   "id": "e8e7a124",
   "metadata": {},
   "outputs": [
    {
     "data": {
      "text/html": [
       "<div>\n",
       "<style scoped>\n",
       "    .dataframe tbody tr th:only-of-type {\n",
       "        vertical-align: middle;\n",
       "    }\n",
       "\n",
       "    .dataframe tbody tr th {\n",
       "        vertical-align: top;\n",
       "    }\n",
       "\n",
       "    .dataframe thead th {\n",
       "        text-align: right;\n",
       "    }\n",
       "</style>\n",
       "<table border=\"1\" class=\"dataframe\">\n",
       "  <thead>\n",
       "    <tr style=\"text-align: right;\">\n",
       "      <th></th>\n",
       "      <th>post_id</th>\n",
       "      <th>date</th>\n",
       "      <th>platform</th>\n",
       "      <th>likes</th>\n",
       "      <th>shares</th>\n",
       "      <th>comments</th>\n",
       "      <th>reach</th>\n",
       "      <th>hashtags</th>\n",
       "      <th>post_type</th>\n",
       "    </tr>\n",
       "  </thead>\n",
       "  <tbody>\n",
       "    <tr>\n",
       "      <th>0</th>\n",
       "      <td>6eb392a9-9887-4f6f-8e4a-5a0658bf1c5d</td>\n",
       "      <td>2024-01-22 21:19:00</td>\n",
       "      <td>Twitter</td>\n",
       "      <td>61</td>\n",
       "      <td>269</td>\n",
       "      <td>286</td>\n",
       "      <td>839</td>\n",
       "      <td>#music #fitness #fun</td>\n",
       "      <td>image</td>\n",
       "    </tr>\n",
       "    <tr>\n",
       "      <th>1</th>\n",
       "      <td>75d4e8c9-824b-41ee-bb8b-ff952c2d9ff7</td>\n",
       "      <td>2024-02-28 15:35:00</td>\n",
       "      <td>Instagram</td>\n",
       "      <td>513</td>\n",
       "      <td>336</td>\n",
       "      <td>152</td>\n",
       "      <td>1568</td>\n",
       "      <td>#fashion #fun #food</td>\n",
       "      <td>texte</td>\n",
       "    </tr>\n",
       "    <tr>\n",
       "      <th>2</th>\n",
       "      <td>aab20414-13f7-4f50-9443-91904c382140</td>\n",
       "      <td>2024-02-13 23:56:00</td>\n",
       "      <td>Instagram</td>\n",
       "      <td>514</td>\n",
       "      <td>152</td>\n",
       "      <td>205</td>\n",
       "      <td>1606</td>\n",
       "      <td>#tech</td>\n",
       "      <td>texte</td>\n",
       "    </tr>\n",
       "    <tr>\n",
       "      <th>3</th>\n",
       "      <td>235de979-7d49-496f-8e92-48716be787ba</td>\n",
       "      <td>2024-03-25 23:40:00</td>\n",
       "      <td>Twitter</td>\n",
       "      <td>962</td>\n",
       "      <td>332</td>\n",
       "      <td>173</td>\n",
       "      <td>2183</td>\n",
       "      <td>#tech #food #music</td>\n",
       "      <td>texte</td>\n",
       "    </tr>\n",
       "    <tr>\n",
       "      <th>4</th>\n",
       "      <td>ed1cdf7e-4565-4d9b-bf55-667ecee1c7cb</td>\n",
       "      <td>2024-04-09 23:33:00</td>\n",
       "      <td>Twitter</td>\n",
       "      <td>351</td>\n",
       "      <td>470</td>\n",
       "      <td>100</td>\n",
       "      <td>1701</td>\n",
       "      <td>#music #fun #travel</td>\n",
       "      <td>image</td>\n",
       "    </tr>\n",
       "    <tr>\n",
       "      <th>...</th>\n",
       "      <td>...</td>\n",
       "      <td>...</td>\n",
       "      <td>...</td>\n",
       "      <td>...</td>\n",
       "      <td>...</td>\n",
       "      <td>...</td>\n",
       "      <td>...</td>\n",
       "      <td>...</td>\n",
       "      <td>...</td>\n",
       "    </tr>\n",
       "    <tr>\n",
       "      <th>195</th>\n",
       "      <td>669c4e19-b3cf-4685-b56f-1431c8368520</td>\n",
       "      <td>2024-01-06 22:14:00</td>\n",
       "      <td>Instagram</td>\n",
       "      <td>319</td>\n",
       "      <td>410</td>\n",
       "      <td>111</td>\n",
       "      <td>1318</td>\n",
       "      <td>#art</td>\n",
       "      <td>video</td>\n",
       "    </tr>\n",
       "    <tr>\n",
       "      <th>196</th>\n",
       "      <td>5351e1cf-e0ec-4f71-a6bc-ebc799b463ac</td>\n",
       "      <td>2024-01-03 19:59:00</td>\n",
       "      <td>Twitter</td>\n",
       "      <td>323</td>\n",
       "      <td>306</td>\n",
       "      <td>79</td>\n",
       "      <td>1456</td>\n",
       "      <td>#travel #fun #music</td>\n",
       "      <td>texte</td>\n",
       "    </tr>\n",
       "    <tr>\n",
       "      <th>197</th>\n",
       "      <td>ed92943a-2ba2-484c-8806-bdae1268f09f</td>\n",
       "      <td>2024-04-10 05:15:00</td>\n",
       "      <td>Twitter</td>\n",
       "      <td>695</td>\n",
       "      <td>244</td>\n",
       "      <td>99</td>\n",
       "      <td>1429</td>\n",
       "      <td>#inspiration</td>\n",
       "      <td>texte</td>\n",
       "    </tr>\n",
       "    <tr>\n",
       "      <th>198</th>\n",
       "      <td>b9932bcf-03fb-476b-bffe-c87d9622f07f</td>\n",
       "      <td>2024-01-14 17:08:00</td>\n",
       "      <td>Instagram</td>\n",
       "      <td>794</td>\n",
       "      <td>401</td>\n",
       "      <td>186</td>\n",
       "      <td>1483</td>\n",
       "      <td>#music #news</td>\n",
       "      <td>texte</td>\n",
       "    </tr>\n",
       "    <tr>\n",
       "      <th>199</th>\n",
       "      <td>1af25794-6c52-4ad6-bb53-b2d519fef0c1</td>\n",
       "      <td>2024-02-21 03:33:00</td>\n",
       "      <td>Twitter</td>\n",
       "      <td>161</td>\n",
       "      <td>31</td>\n",
       "      <td>58</td>\n",
       "      <td>1041</td>\n",
       "      <td>#fun</td>\n",
       "      <td>image</td>\n",
       "    </tr>\n",
       "  </tbody>\n",
       "</table>\n",
       "<p>200 rows × 9 columns</p>\n",
       "</div>"
      ],
      "text/plain": [
       "                                  post_id                 date   platform  \\\n",
       "0    6eb392a9-9887-4f6f-8e4a-5a0658bf1c5d  2024-01-22 21:19:00    Twitter   \n",
       "1    75d4e8c9-824b-41ee-bb8b-ff952c2d9ff7  2024-02-28 15:35:00  Instagram   \n",
       "2    aab20414-13f7-4f50-9443-91904c382140  2024-02-13 23:56:00  Instagram   \n",
       "3    235de979-7d49-496f-8e92-48716be787ba  2024-03-25 23:40:00    Twitter   \n",
       "4    ed1cdf7e-4565-4d9b-bf55-667ecee1c7cb  2024-04-09 23:33:00    Twitter   \n",
       "..                                    ...                  ...        ...   \n",
       "195  669c4e19-b3cf-4685-b56f-1431c8368520  2024-01-06 22:14:00  Instagram   \n",
       "196  5351e1cf-e0ec-4f71-a6bc-ebc799b463ac  2024-01-03 19:59:00    Twitter   \n",
       "197  ed92943a-2ba2-484c-8806-bdae1268f09f  2024-04-10 05:15:00    Twitter   \n",
       "198  b9932bcf-03fb-476b-bffe-c87d9622f07f  2024-01-14 17:08:00  Instagram   \n",
       "199  1af25794-6c52-4ad6-bb53-b2d519fef0c1  2024-02-21 03:33:00    Twitter   \n",
       "\n",
       "     likes  shares  comments  reach              hashtags post_type  \n",
       "0       61     269       286    839  #music #fitness #fun     image  \n",
       "1      513     336       152   1568   #fashion #fun #food     texte  \n",
       "2      514     152       205   1606                 #tech     texte  \n",
       "3      962     332       173   2183    #tech #food #music     texte  \n",
       "4      351     470       100   1701   #music #fun #travel     image  \n",
       "..     ...     ...       ...    ...                   ...       ...  \n",
       "195    319     410       111   1318                  #art     video  \n",
       "196    323     306        79   1456   #travel #fun #music     texte  \n",
       "197    695     244        99   1429          #inspiration     texte  \n",
       "198    794     401       186   1483          #music #news     texte  \n",
       "199    161      31        58   1041                  #fun     image  \n",
       "\n",
       "[200 rows x 9 columns]"
      ]
     },
     "execution_count": 9,
     "metadata": {},
     "output_type": "execute_result"
    }
   ],
   "source": [
    "df"
   ]
  },
  {
   "cell_type": "code",
   "execution_count": 10,
   "id": "0c476e91",
   "metadata": {},
   "outputs": [
    {
     "name": "stdout",
     "output_type": "stream",
     "text": [
      "<class 'pandas.core.frame.DataFrame'>\n",
      "RangeIndex: 200 entries, 0 to 199\n",
      "Data columns (total 9 columns):\n",
      " #   Column     Non-Null Count  Dtype \n",
      "---  ------     --------------  ----- \n",
      " 0   post_id    200 non-null    object\n",
      " 1   date       200 non-null    object\n",
      " 2   platform   200 non-null    object\n",
      " 3   likes      200 non-null    int64 \n",
      " 4   shares     200 non-null    int64 \n",
      " 5   comments   200 non-null    int64 \n",
      " 6   reach      200 non-null    int64 \n",
      " 7   hashtags   200 non-null    object\n",
      " 8   post_type  200 non-null    object\n",
      "dtypes: int64(4), object(5)\n",
      "memory usage: 14.2+ KB\n"
     ]
    }
   ],
   "source": [
    "df.info()"
   ]
  },
  {
   "cell_type": "code",
   "execution_count": 11,
   "id": "c4e08c50",
   "metadata": {},
   "outputs": [
    {
     "data": {
      "text/html": [
       "<div>\n",
       "<style scoped>\n",
       "    .dataframe tbody tr th:only-of-type {\n",
       "        vertical-align: middle;\n",
       "    }\n",
       "\n",
       "    .dataframe tbody tr th {\n",
       "        vertical-align: top;\n",
       "    }\n",
       "\n",
       "    .dataframe thead th {\n",
       "        text-align: right;\n",
       "    }\n",
       "</style>\n",
       "<table border=\"1\" class=\"dataframe\">\n",
       "  <thead>\n",
       "    <tr style=\"text-align: right;\">\n",
       "      <th></th>\n",
       "      <th>likes</th>\n",
       "      <th>shares</th>\n",
       "      <th>comments</th>\n",
       "      <th>reach</th>\n",
       "    </tr>\n",
       "  </thead>\n",
       "  <tbody>\n",
       "    <tr>\n",
       "      <th>count</th>\n",
       "      <td>200.0000</td>\n",
       "      <td>200.000000</td>\n",
       "      <td>200.000000</td>\n",
       "      <td>200.000000</td>\n",
       "    </tr>\n",
       "    <tr>\n",
       "      <th>mean</th>\n",
       "      <td>533.4750</td>\n",
       "      <td>261.885000</td>\n",
       "      <td>144.865000</td>\n",
       "      <td>1483.455000</td>\n",
       "    </tr>\n",
       "    <tr>\n",
       "      <th>std</th>\n",
       "      <td>277.1548</td>\n",
       "      <td>147.491561</td>\n",
       "      <td>82.641484</td>\n",
       "      <td>387.264804</td>\n",
       "    </tr>\n",
       "    <tr>\n",
       "      <th>min</th>\n",
       "      <td>11.0000</td>\n",
       "      <td>13.000000</td>\n",
       "      <td>0.000000</td>\n",
       "      <td>309.000000</td>\n",
       "    </tr>\n",
       "    <tr>\n",
       "      <th>25%</th>\n",
       "      <td>316.0000</td>\n",
       "      <td>122.250000</td>\n",
       "      <td>73.000000</td>\n",
       "      <td>1209.250000</td>\n",
       "    </tr>\n",
       "    <tr>\n",
       "      <th>50%</th>\n",
       "      <td>514.5000</td>\n",
       "      <td>269.500000</td>\n",
       "      <td>143.000000</td>\n",
       "      <td>1492.000000</td>\n",
       "    </tr>\n",
       "    <tr>\n",
       "      <th>75%</th>\n",
       "      <td>756.5000</td>\n",
       "      <td>397.000000</td>\n",
       "      <td>216.000000</td>\n",
       "      <td>1771.000000</td>\n",
       "    </tr>\n",
       "    <tr>\n",
       "      <th>max</th>\n",
       "      <td>995.0000</td>\n",
       "      <td>500.000000</td>\n",
       "      <td>299.000000</td>\n",
       "      <td>2356.000000</td>\n",
       "    </tr>\n",
       "  </tbody>\n",
       "</table>\n",
       "</div>"
      ],
      "text/plain": [
       "          likes      shares    comments        reach\n",
       "count  200.0000  200.000000  200.000000   200.000000\n",
       "mean   533.4750  261.885000  144.865000  1483.455000\n",
       "std    277.1548  147.491561   82.641484   387.264804\n",
       "min     11.0000   13.000000    0.000000   309.000000\n",
       "25%    316.0000  122.250000   73.000000  1209.250000\n",
       "50%    514.5000  269.500000  143.000000  1492.000000\n",
       "75%    756.5000  397.000000  216.000000  1771.000000\n",
       "max    995.0000  500.000000  299.000000  2356.000000"
      ]
     },
     "execution_count": 11,
     "metadata": {},
     "output_type": "execute_result"
    }
   ],
   "source": [
    "df.describe()"
   ]
  },
  {
   "cell_type": "code",
   "execution_count": 12,
   "id": "2796b155",
   "metadata": {},
   "outputs": [
    {
     "name": "stdout",
     "output_type": "stream",
     "text": [
      "Requirement already satisfied: faker in /Users/nathalieclaude/opt/anaconda3/lib/python3.9/site-packages (37.1.0)\n",
      "Requirement already satisfied: tzdata in /Users/nathalieclaude/opt/anaconda3/lib/python3.9/site-packages (from faker) (2025.2)\n",
      "Note: you may need to restart the kernel to use updated packages.\n"
     ]
    }
   ],
   "source": [
    "pip install faker"
   ]
  },
  {
   "cell_type": "code",
   "execution_count": 1,
   "id": "3c331528",
   "metadata": {},
   "outputs": [],
   "source": [
    "from faker import Faker"
   ]
  },
  {
   "cell_type": "code",
   "execution_count": 3,
   "id": "7de8e545",
   "metadata": {},
   "outputs": [],
   "source": [
    "fake = Faker()"
   ]
  },
  {
   "cell_type": "code",
   "execution_count": 12,
   "id": "89cef441",
   "metadata": {},
   "outputs": [
    {
     "data": {
      "text/plain": [
       "200"
      ]
     },
     "execution_count": 12,
     "metadata": {},
     "output_type": "execute_result"
    }
   ],
   "source": [
    "len(df)"
   ]
  },
  {
   "cell_type": "markdown",
   "id": "9c2efbe4",
   "metadata": {},
   "source": [
    "Analyse exploratoire du dataset simulé"
   ]
  },
  {
   "cell_type": "code",
   "execution_count": 13,
   "id": "3ad662d5",
   "metadata": {},
   "outputs": [],
   "source": [
    "import matplotlib.pyplot as plt"
   ]
  },
  {
   "cell_type": "markdown",
   "id": "ce05635e",
   "metadata": {},
   "source": [
    "Convertion de date en datetime et extraction de hour"
   ]
  },
  {
   "cell_type": "code",
   "execution_count": 14,
   "id": "85dac698",
   "metadata": {},
   "outputs": [],
   "source": [
    "df[\"date\"] = pd.to_datetime(df[\"date\"])\n",
    "df[\"hour\"] = df[\"date\"].dt.hour"
   ]
  },
  {
   "cell_type": "markdown",
   "id": "3d37bc4f",
   "metadata": {},
   "source": [
    "Engagement total"
   ]
  },
  {
   "cell_type": "code",
   "execution_count": 15,
   "id": "a605c4b2",
   "metadata": {},
   "outputs": [],
   "source": [
    "df[\"engagement\"] = df[\"likes\"] + df[\"shares\"] + df[\"comments\"]"
   ]
  },
  {
   "cell_type": "code",
   "execution_count": 17,
   "id": "16a8437a",
   "metadata": {},
   "outputs": [
    {
     "data": {
      "text/plain": [
       "0       616\n",
       "1      1001\n",
       "2       871\n",
       "3      1467\n",
       "4       921\n",
       "       ... \n",
       "195     840\n",
       "196     708\n",
       "197    1038\n",
       "198    1381\n",
       "199     250\n",
       "Name: engagement, Length: 200, dtype: int64"
      ]
     },
     "execution_count": 17,
     "metadata": {},
     "output_type": "execute_result"
    }
   ],
   "source": [
    "df[\"engagement\"]"
   ]
  },
  {
   "cell_type": "code",
   "execution_count": 21,
   "id": "1061757c",
   "metadata": {},
   "outputs": [],
   "source": [
    "# Moyenne engagement par plateforme\n",
    "\n",
    "engagement_platform = df.groupby(\"platform\")[\"engagement\"].mean().reset_index()"
   ]
  },
  {
   "cell_type": "code",
   "execution_count": 22,
   "id": "40808454",
   "metadata": {},
   "outputs": [],
   "source": [
    "# Moyenne engagement par type de post\n",
    "\n",
    "engagement_post_type = df.groupby(\"post_type\")[\"engagement\"].mean().reset_index()"
   ]
  },
  {
   "cell_type": "code",
   "execution_count": 29,
   "id": "b4425882",
   "metadata": {},
   "outputs": [],
   "source": [
    "# Moyenne engagement par heure\n",
    "\n",
    "engagement_by_hour = df.groupby(\"hour\")[\"engagement\"].mean().reset_index()"
   ]
  },
  {
   "cell_type": "markdown",
   "id": "f2c6dfeb",
   "metadata": {},
   "source": [
    "Affichage des 3 graphes"
   ]
  },
  {
   "cell_type": "code",
   "execution_count": 35,
   "id": "da8a00ae",
   "metadata": {},
   "outputs": [
    {
     "data": {
      "image/png": "[encoded data removed]",
      "text/plain": [
       "<Figure size 640x480 with 1 Axes>"
      ]
     },
     "metadata": {},
     "output_type": "display_data"
    },
    {
     "data": {
      "image/png": "[encoded data removed]",
      "text/plain": [
       "<Figure size 640x480 with 1 Axes>"
      ]
     },
     "metadata": {},
     "output_type": "display_data"
    },
    {
     "data": {
      "image/png": "[encoded data removed]",
      "text/plain": [
       "<Figure size 640x480 with 1 Axes>"
      ]
     },
     "metadata": {},
     "output_type": "display_data"
    }
   ],
   "source": [
    "fig1, ax1 = plt.subplots()\n",
    "sns.barplot(data=engagement_platform, x=\"platform\", y=\"engagement\", ax=ax1)\n",
    "ax1.set_title(\"Engagement moyen par plateforme\")\n",
    "\n",
    "fig2, ax2 = plt.subplots()\n",
    "sns.barplot(data=engagement_post_type, x=\"post_type\", y=\"engagement\", ax=ax2)\n",
    "ax2.set_title(\"Engagement moyen par type de post\")\n",
    "\n",
    "fig3, ax3 = plt.subplots()\n",
    "sns.lineplot(data=engagement_by_hour, x=\"hour\", y=\"engagement\", ax=ax3, marker=\"o\")\n",
    "ax3.set_title(\"Engagement moyen par heure de publication\")\n",
    "ax3.set_xticks(range(0,24))\n",
    "\n",
    "plt.tight_layout()"
   ]
  },
  {
   "cell_type": "code",
   "execution_count": null,
   "id": "d8edc782",
   "metadata": {},
   "outputs": [],
   "source": []
  },
  {
   "cell_type": "code",
   "execution_count": null,
   "id": "de3812e6",
   "metadata": {},
   "outputs": [],
   "source": []
  },
  {
   "cell_type": "code",
   "execution_count": null,
   "id": "9610226e",
   "metadata": {},
   "outputs": [],
   "source": []
  },
  {
   "cell_type": "code",
   "execution_count": null,
   "id": "628000f6",
   "metadata": {},
   "outputs": [],
   "source": []
  },
  {
   "cell_type": "code",
   "execution_count": null,
   "id": "29f4f813",
   "metadata": {},
   "outputs": [],
   "source": []
  },
  {
   "cell_type": "code",
   "execution_count": null,
   "id": "7a14fdab",
   "metadata": {},
   "outputs": [],
   "source": []
  },
  {
   "cell_type": "code",
   "execution_count": null,
   "id": "c97b8017",
   "metadata": {},
   "outputs": [],
   "source": []
  },
  {
   "cell_type": "code",
   "execution_count": null,
   "id": "15a41f73",
   "metadata": {},
   "outputs": [],
   "source": []
  },
  {
   "cell_type": "code",
   "execution_count": null,
   "id": "59d06916",
   "metadata": {},
   "outputs": [],
   "source": []
  },
  {
   "cell_type": "code",
   "execution_count": null,
   "id": "b74dbb6a",
   "metadata": {},
   "outputs": [],
   "source": []
  },
  {
   "cell_type": "code",
   "execution_count": null,
   "id": "ce7f6012",
   "metadata": {},
   "outputs": [],
   "source": []
  },
  {
   "cell_type": "code",
   "execution_count": null,
   "id": "4cc2e3fe",
   "metadata": {},
   "outputs": [],
   "source": []
  },
  {
   "cell_type": "code",
   "execution_count": null,
   "id": "199eba35",
   "metadata": {},
   "outputs": [],
   "source": []
  },
  {
   "cell_type": "code",
   "execution_count": null,
   "id": "76c21c2a",
   "metadata": {},
   "outputs": [],
   "source": []
  },
  {
   "cell_type": "code",
   "execution_count": null,
   "id": "05c0e632",
   "metadata": {},
   "outputs": [],
   "source": []
  },
  {
   "cell_type": "code",
   "execution_count": null,
   "id": "1a393ed9",
   "metadata": {},
   "outputs": [],
   "source": []
  },
  {
   "cell_type": "code",
   "execution_count": null,
   "id": "91e7c5d6",
   "metadata": {},
   "outputs": [],
   "source": []
  },
  {
   "cell_type": "code",
   "execution_count": null,
   "id": "8611340b",
   "metadata": {},
   "outputs": [],
   "source": []
  },
  {
   "cell_type": "code",
   "execution_count": null,
   "id": "1450a2ba",
   "metadata": {},
   "outputs": [],
   "source": []
  },
  {
   "cell_type": "code",
   "execution_count": null,
   "id": "db68fd63",
   "metadata": {},
   "outputs": [],
   "source": []
  },
  {
   "cell_type": "code",
   "execution_count": null,
   "id": "4ef9f875",
   "metadata": {},
   "outputs": [],
   "source": []
  },
  {
   "cell_type": "code",
   "execution_count": null,
   "id": "24f7fd12",
   "metadata": {},
   "outputs": [],
   "source": []
  },
  {
   "cell_type": "code",
   "execution_count": null,
   "id": "088e4ab3",
   "metadata": {},
   "outputs": [],
   "source": []
  },
  {
   "cell_type": "code",
   "execution_count": null,
   "id": "779f1258",
   "metadata": {},
   "outputs": [],
   "source": []
  },
  {
   "cell_type": "code",
   "execution_count": null,
   "id": "74eabdc2",
   "metadata": {},
   "outputs": [],
   "source": []
  }
 ],
 "metadata": {
  "kernelspec": {
   "display_name": "Python 3 (ipykernel)",
   "language": "python",
   "name": "python3"
  },
  "language_info": {
   "codemirror_mode": {
    "name": "ipython",
    "version": 3
   },
   "file_extension": ".py",
   "mimetype": "text/x-python",
   "name": "python",
   "nbconvert_exporter": "python",
   "pygments_lexer": "ipython3",
   "version": "3.9.13"
  }
 },
 "nbformat": 4,
 "nbformat_minor": 5
}
